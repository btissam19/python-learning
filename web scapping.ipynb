{
 "cells": [
  {
   "cell_type": "code",
   "execution_count": 1,
   "id": "51b54cd5",
   "metadata": {},
   "outputs": [
    {
     "name": "stdout",
     "output_type": "stream",
     "text": [
      "Requirement already satisfied: requests in c:\\users\\hp\\anaconda3\\lib\\site-packages (2.31.0)\n",
      "Requirement already satisfied: charset-normalizer<4,>=2 in c:\\users\\hp\\anaconda3\\lib\\site-packages (from requests) (2.0.4)\n",
      "Requirement already satisfied: idna<4,>=2.5 in c:\\users\\hp\\anaconda3\\lib\\site-packages (from requests) (3.4)\n",
      "Requirement already satisfied: urllib3<3,>=1.21.1 in c:\\users\\hp\\anaconda3\\lib\\site-packages (from requests) (1.26.16)\n",
      "Requirement already satisfied: certifi>=2017.4.17 in c:\\users\\hp\\anaconda3\\lib\\site-packages (from requests) (2023.7.22)\n",
      "Note: you may need to restart the kernel to use updated packages.\n"
     ]
    }
   ],
   "source": [
    "pip install requests"
   ]
  },
  {
   "cell_type": "code",
   "execution_count": 2,
   "id": "9ac589db",
   "metadata": {},
   "outputs": [
    {
     "name": "stdout",
     "output_type": "stream",
     "text": [
      "Requirement already satisfied: beautifulsoup4 in c:\\users\\hp\\anaconda3\\lib\\site-packages (4.12.3)\n",
      "Requirement already satisfied: soupsieve>1.2 in c:\\users\\hp\\anaconda3\\lib\\site-packages (from beautifulsoup4) (2.4)\n",
      "Note: you may need to restart the kernel to use updated packages.\n"
     ]
    }
   ],
   "source": [
    "pip install beautifulsoup4"
   ]
  },
  {
   "cell_type": "code",
   "execution_count": 1,
   "id": "1f78bb0b",
   "metadata": {},
   "outputs": [],
   "source": [
    "import requests\n",
    "from bs4 import BeautifulSoup\n",
    "import csv\n",
    "from itertools import zip_longest"
   ]
  },
  {
   "cell_type": "code",
   "execution_count": 48,
   "id": "0eec843d",
   "metadata": {},
   "outputs": [],
   "source": [
    "job_title=[]\n",
    "job_location=[]\n",
    "skills=[]\n",
    "company_name=[]\n",
    "links=[]"
   ]
  },
  {
   "cell_type": "code",
   "execution_count": 2,
   "id": "92d7c61a",
   "metadata": {},
   "outputs": [],
   "source": [
    "result=requests.get(\"https://wuzzuf.net/search/jobs/?q=python&a=hpb\")"
   ]
  },
  {
   "cell_type": "code",
   "execution_count": 5,
   "id": "98da8dc1",
   "metadata": {},
   "outputs": [],
   "source": [
    "src=result.content"
   ]
  },
  {
   "cell_type": "code",
   "execution_count": 8,
   "id": "1871dfff",
   "metadata": {},
   "outputs": [],
   "source": [
    "soup=BeautifulSoup(src,\"lxml\")"
   ]
  },
  {
   "cell_type": "code",
   "execution_count": 29,
   "id": "cb227f3c",
   "metadata": {},
   "outputs": [
    {
     "data": {
      "text/plain": [
       "15"
      ]
     },
     "execution_count": 29,
     "metadata": {},
     "output_type": "execute_result"
    }
   ],
   "source": [
    "job_titles=soup.find_all(\"h2\",{\"class\":\"css-m604qf\"})\n",
    "len(job_titles)"
   ]
  },
  {
   "cell_type": "code",
   "execution_count": 28,
   "id": "eeb895a9",
   "metadata": {},
   "outputs": [
    {
     "data": {
      "text/plain": [
       "15"
      ]
     },
     "execution_count": 28,
     "metadata": {},
     "output_type": "execute_result"
    }
   ],
   "source": [
    "company_names=soup.find_all(\"a\",{\"class\":\"css-17s97q8\"})\n",
    "len(company_names)"
   ]
  },
  {
   "cell_type": "code",
   "execution_count": 30,
   "id": "9094e4e5",
   "metadata": {},
   "outputs": [
    {
     "data": {
      "text/plain": [
       "15"
      ]
     },
     "execution_count": 30,
     "metadata": {},
     "output_type": "execute_result"
    }
   ],
   "source": [
    "location_names=soup.find_all(\"span\",{\"class\":\"css-5wys0k\"})\n",
    "len(location_names)"
   ]
  },
  {
   "cell_type": "code",
   "execution_count": 31,
   "id": "f39577fc",
   "metadata": {},
   "outputs": [
    {
     "data": {
      "text/plain": [
       "15"
      ]
     },
     "execution_count": 31,
     "metadata": {},
     "output_type": "execute_result"
    }
   ],
   "source": [
    "job_skills=soup.find_all(\"div\",{\"class\":\"css-y4udm8\"})\n",
    "len(job_skills)"
   ]
  },
  {
   "cell_type": "code",
   "execution_count": 49,
   "id": "415ff8b9",
   "metadata": {},
   "outputs": [
    {
     "name": "stdout",
     "output_type": "stream",
     "text": [
      "['https://wuzzuf.net/jobs/p/g7vCRL9tSAE2-Senior-ODDOPython-Developer-The-Address-Investments-for-Real-Estate-Consultancy-Cairo-Egypt', 'https://wuzzuf.net/jobs/p/iL54Am5UH2m6-Senior-Python-Developer-Django---PHP-Giza-Egypt', 'https://wuzzuf.net/jobs/p/g/yOkZS19CisjE-Remote-Senior-Python-Engineer-Turing-Cairo-Egypt', 'https://wuzzuf.net/jobs/p/g/V1o6MYjKgf1I-Remote-Python-Data-Scientist-Turing-Cairo-Egypt', 'https://wuzzuf.net/jobs/p/cte48qC4DBsK-Python-Backend-Developer-Geek-Labs-Cairo-Egypt', 'https://wuzzuf.net/jobs/p/g/XzAhZy8o9Oj5-SASE-Engineer-with-Python-CodiLime-Cairo-Egypt', 'https://wuzzuf.net/jobs/p/ypxcO09ZJ2k2-PythonDjango-Backend-Developer-mas-trading-Cairo-Egypt', 'https://wuzzuf.net/jobs/p/g/dAz5ST4ym1pQ-Remote-Full-stack-Python-Developer-Scopic-Software-Cairo-Egypt', 'https://wuzzuf.net/jobs/p/g/TRsgR9FPETEk-Python-Django-Developer-Element8-Dubai-United-Arab-Emirates', 'https://wuzzuf.net/jobs/p/g/uhOXz41KlXJz-Remote-Lead-Python-Engineer-Turing-Cairo-Egypt', 'https://wuzzuf.net/jobs/p/g/9KprmNLGES5G-Remote-Python-Solutions-Developer-Turing-Cairo-Egypt', 'https://wuzzuf.net/jobs/p/g/JmQLbX6nQ7IB-Remote-Python-Software-Developer-Turing-Cairo-Egypt', 'https://wuzzuf.net/jobs/p/g/A5RgJVevFxwp-Remote-Python-Engineer-Turing-Cairo-Egypt', 'https://wuzzuf.net/jobs/p/g/k4XUw4EcRWnM-Remote-Python-Programmer-Turing-Cairo-Egypt', 'https://wuzzuf.net/jobs/p/g/7TLZKX1uT8Mp-Remote-Python-Analyst-Turing-Cairo-Egypt']\n"
     ]
    }
   ],
   "source": [
    "for i in range(len(job_titles)):\n",
    "    job_title.append(job_titles[i].text)\n",
    "    links.append(job_titles[i].find(\"a\").attrs[\"href\"])\n",
    "    company_name.append(company_names[i].text)\n",
    "    job_location.append(location_names[i].text)\n",
    "    skills.append(job_skills[i].text)\n",
    "print(links)\n"
   ]
  },
  {
   "cell_type": "code",
   "execution_count": 50,
   "id": "e9be3cb3",
   "metadata": {},
   "outputs": [
    {
     "name": "stdout",
     "output_type": "stream",
     "text": [
      "<itertools.zip_longest object at 0x0000022B00631B70>\n"
     ]
    }
   ],
   "source": [
    "file_list=[job_title,company_name,job_location,skills,links]\n",
    "exported=zip_longest(*file_list)\n",
    "print(exported)"
   ]
  },
  {
   "cell_type": "code",
   "execution_count": 51,
   "id": "dfac13f8",
   "metadata": {},
   "outputs": [
    {
     "name": "stdout",
     "output_type": "stream",
     "text": [
      "('Senior ODDO/Python Developer', 'The Address Investments for Real Estate Consultancy -', 'New Cairo, Cairo, Egypt ', 'Full TimeHybridExperienced · 3 - 5 Yrs of Exp · IT/Software Development · Odoo · Odoo Development · Python', 'https://wuzzuf.net/jobs/p/g7vCRL9tSAE2-Senior-ODDOPython-Developer-The-Address-Investments-for-Real-Estate-Consultancy-Cairo-Egypt')\n",
      "('Senior Python Developer (Django - PHP)', 'Confidential -', 'Giza, Egypt ', 'Full TimeHybridExperienced · 5+ Yrs of Exp · IT/Software Development · Engineering - Telecom/Technology · Python · Computer Science · Django · PHP · REST · Information Technology (IT) · Software Development · English', 'https://wuzzuf.net/jobs/p/iL54Am5UH2m6-Senior-Python-Developer-Django---PHP-Giza-Egypt')\n",
      "('Remote Senior Python Engineer', 'Turing -', 'Cairo, Egypt ', 'Full TimeExperienced · IT/Software Development · Analyst/Research · Engineering - Telecom/Technology · Computer Science · Information Technology (IT) · Software Engineering · Python · Software Development · Computer Engineering · Flask', 'https://wuzzuf.net/jobs/p/g/yOkZS19CisjE-Remote-Senior-Python-Engineer-Turing-Cairo-Egypt')\n",
      "('Remote Python Data Scientist', 'Turing -', 'Cairo, Egypt ', 'Full TimeEntry Level · IT/Software Development · Analyst/Research · Engineering - Telecom/Technology · information technology (it) · python · computer science · computer engineering · sql · engineering · data science', 'https://wuzzuf.net/jobs/p/g/V1o6MYjKgf1I-Remote-Python-Data-Scientist-Turing-Cairo-Egypt')\n",
      "('Python Backend Developer', 'Geek Labs -', 'Maadi, Cairo, Egypt ', 'Full TimeOn-siteEntry Level · 2+ Yrs of Exp · IT/Software Development · Other · Computer Science · MEAN Stack · Backend developer · fullstack developer · Python · Web Development · WordPress', 'https://wuzzuf.net/jobs/p/cte48qC4DBsK-Python-Backend-Developer-Geek-Labs-Cairo-Egypt')\n",
      "('SASE Engineer with Python', 'CodiLime -', 'Cairo, Egypt ', 'Freelance / ProjectExperienced · IT/Software Development · Analyst/Research · Engineering - Telecom/Technology · Python · Computer Science · Information Technology (IT) · Software Engineering · Docker · Django · Software Development', 'https://wuzzuf.net/jobs/p/g/XzAhZy8o9Oj5-SASE-Engineer-with-Python-CodiLime-Cairo-Egypt')\n",
      "('Python/Django Backend Developer', 'mas trading  -', 'Maadi, Cairo, Egypt ', 'Full TimeRemoteExperienced · 3 - 5 Yrs of Exp · IT/Software Development · Engineering - Telecom/Technology · Django · Information Technology (IT) · backend · Programming · Python', 'https://wuzzuf.net/jobs/p/ypxcO09ZJ2k2-PythonDjango-Backend-Developer-mas-trading-Cairo-Egypt')\n",
      "('Remote Full-stack Python Developer', 'Scopic Software -', 'Cairo, Egypt ', 'Full TimeEntry Level · Creative/Design/Art · IT/Software Development · Engineering - Telecom/Technology · Information Technology (IT) · Computer Science · Software Development · javaScript · CSS · HTML · Full Stack', 'https://wuzzuf.net/jobs/p/g/dAz5ST4ym1pQ-Remote-Full-stack-Python-Developer-Scopic-Software-Cairo-Egypt')\n",
      "('Python Django Developer', 'Element8 -', 'Dubai, United Arab Emirates ', 'Full TimeEntry Level · Creative/Design/Art · IT/Software Development · Engineering - Telecom/Technology · Python · Information Technology (IT) · Computer Science · Django · Software Development · javaScript · Software Engineering', 'https://wuzzuf.net/jobs/p/g/TRsgR9FPETEk-Python-Django-Developer-Element8-Dubai-United-Arab-Emirates')\n",
      "('Remote Lead Python Engineer', 'Turing -', 'Cairo, Egypt ', 'Full TimeExperienced · IT/Software Development · Engineering - Telecom/Technology · Engineering - Mechanical/Electrical · computer science · information technology (it) · python · computer engineering · engineering · sql · remote', 'https://wuzzuf.net/jobs/p/g/uhOXz41KlXJz-Remote-Lead-Python-Engineer-Turing-Cairo-Egypt')\n",
      "('Remote Python Solutions Developer', 'Turing -', 'Cairo, Egypt ', 'Full TimeEntry Level · Installation/Maintenance/Repair · IT/Software Development · Engineering - Telecom/Technology · information technology (it) · computer science · python · software development · engineering · programming · english', 'https://wuzzuf.net/jobs/p/g/9KprmNLGES5G-Remote-Python-Solutions-Developer-Turing-Cairo-Egypt')\n",
      "('Remote Python Software Developer', 'Turing -', 'Cairo, Egypt ', 'Full TimeEntry Level · Installation/Maintenance/Repair · IT/Software Development · Engineering - Telecom/Technology · information technology (it) · computer science · software development · python · engineering · programming · english', 'https://wuzzuf.net/jobs/p/g/JmQLbX6nQ7IB-Remote-Python-Software-Developer-Turing-Cairo-Egypt')\n",
      "('Remote Python Engineer', 'Turing -', 'Cairo, Egypt ', 'Full TimeEntry Level · Installation/Maintenance/Repair · IT/Software Development · Engineering - Telecom/Technology · Computer Science · Information Technology (IT) · Engineering · Software Development · Python · Software Engineering · SQL', 'https://wuzzuf.net/jobs/p/g/A5RgJVevFxwp-Remote-Python-Engineer-Turing-Cairo-Egypt')\n",
      "('Remote Python Programmer', 'Turing -', 'Cairo, Egypt ', 'Full TimeEntry Level · IT/Software Development · Engineering - Telecom/Technology · Engineering - Mechanical/Electrical · information technology (it) · python · computer science · linux · engineering · developer · computer', 'https://wuzzuf.net/jobs/p/g/k4XUw4EcRWnM-Remote-Python-Programmer-Turing-Cairo-Egypt')\n",
      "('Remote Python Analyst', 'Turing -', 'Cairo, Egypt ', 'Full TimeEntry Level · IT/Software Development · Analyst/Research · Engineering - Telecom/Technology · information technology (it) · computer science · python · linux · engineering · analysis · programming', 'https://wuzzuf.net/jobs/p/g/7TLZKX1uT8Mp-Remote-Python-Analyst-Turing-Cairo-Egypt')\n"
     ]
    }
   ],
   "source": [
    "for item in exported:\n",
    "    print(item)"
   ]
  },
  {
   "cell_type": "code",
   "execution_count": 52,
   "id": "d572ab31",
   "metadata": {},
   "outputs": [
    {
     "ename": "PermissionError",
     "evalue": "[Errno 13] Permission denied: 'C:/Users/HP/Desktop/egyptJobs.csv'",
     "output_type": "error",
     "traceback": [
      "\u001b[1;31m---------------------------------------------------------------------------\u001b[0m",
      "\u001b[1;31mPermissionError\u001b[0m                           Traceback (most recent call last)",
      "Cell \u001b[1;32mIn[52], line 1\u001b[0m\n\u001b[1;32m----> 1\u001b[0m \u001b[38;5;28;01mwith\u001b[39;00m \u001b[38;5;28mopen\u001b[39m(\u001b[38;5;124m\"\u001b[39m\u001b[38;5;124mC:/Users/HP/Desktop/egyptJobs.csv\u001b[39m\u001b[38;5;124m\"\u001b[39m,\u001b[38;5;124m\"\u001b[39m\u001b[38;5;124mw\u001b[39m\u001b[38;5;124m\"\u001b[39m) \u001b[38;5;28;01mas\u001b[39;00m myfile:\n\u001b[0;32m      2\u001b[0m     wr\u001b[38;5;241m=\u001b[39mcsv\u001b[38;5;241m.\u001b[39mwriter(myfile)\n\u001b[0;32m      3\u001b[0m     wr\u001b[38;5;241m.\u001b[39mwriterow([\u001b[38;5;124m\"\u001b[39m\u001b[38;5;124mjob title\u001b[39m\u001b[38;5;124m\"\u001b[39m,\u001b[38;5;124m\"\u001b[39m\u001b[38;5;124mcompany name\u001b[39m\u001b[38;5;124m\"\u001b[39m,\u001b[38;5;124m\"\u001b[39m\u001b[38;5;124mlocation\u001b[39m\u001b[38;5;124m\"\u001b[39m,\u001b[38;5;124m\"\u001b[39m\u001b[38;5;124mskills\u001b[39m\u001b[38;5;124m\"\u001b[39m,\u001b[38;5;124m\"\u001b[39m\u001b[38;5;124mlinks\u001b[39m\u001b[38;5;124m\"\u001b[39m])\n",
      "File \u001b[1;32m~\\anaconda3\\Lib\\site-packages\\IPython\\core\\interactiveshell.py:286\u001b[0m, in \u001b[0;36m_modified_open\u001b[1;34m(file, *args, **kwargs)\u001b[0m\n\u001b[0;32m    279\u001b[0m \u001b[38;5;28;01mif\u001b[39;00m file \u001b[38;5;129;01min\u001b[39;00m {\u001b[38;5;241m0\u001b[39m, \u001b[38;5;241m1\u001b[39m, \u001b[38;5;241m2\u001b[39m}:\n\u001b[0;32m    280\u001b[0m     \u001b[38;5;28;01mraise\u001b[39;00m \u001b[38;5;167;01mValueError\u001b[39;00m(\n\u001b[0;32m    281\u001b[0m         \u001b[38;5;124mf\u001b[39m\u001b[38;5;124m\"\u001b[39m\u001b[38;5;124mIPython won\u001b[39m\u001b[38;5;124m'\u001b[39m\u001b[38;5;124mt let you open fd=\u001b[39m\u001b[38;5;132;01m{\u001b[39;00mfile\u001b[38;5;132;01m}\u001b[39;00m\u001b[38;5;124m by default \u001b[39m\u001b[38;5;124m\"\u001b[39m\n\u001b[0;32m    282\u001b[0m         \u001b[38;5;124m\"\u001b[39m\u001b[38;5;124mas it is likely to crash IPython. If you know what you are doing, \u001b[39m\u001b[38;5;124m\"\u001b[39m\n\u001b[0;32m    283\u001b[0m         \u001b[38;5;124m\"\u001b[39m\u001b[38;5;124myou can use builtins\u001b[39m\u001b[38;5;124m'\u001b[39m\u001b[38;5;124m open.\u001b[39m\u001b[38;5;124m\"\u001b[39m\n\u001b[0;32m    284\u001b[0m     )\n\u001b[1;32m--> 286\u001b[0m \u001b[38;5;28;01mreturn\u001b[39;00m io_open(file, \u001b[38;5;241m*\u001b[39margs, \u001b[38;5;241m*\u001b[39m\u001b[38;5;241m*\u001b[39mkwargs)\n",
      "\u001b[1;31mPermissionError\u001b[0m: [Errno 13] Permission denied: 'C:/Users/HP/Desktop/egyptJobs.csv'"
     ]
    }
   ],
   "source": [
    "with open(\"C:/Users/HP/Desktop/egyptJobs.csv\",\"w\") as myfile:\n",
    "    wr=csv.writer(myfile)\n",
    "    wr.writerow([\"job title\",\"company name\",\"location\",\"skills\",\"links\"])\n",
    "    wr.writerows(exported)"
   ]
  },
  {
   "cell_type": "code",
   "execution_count": null,
   "id": "533fda4c",
   "metadata": {},
   "outputs": [],
   "source": []
  }
 ],
 "metadata": {
  "kernelspec": {
   "display_name": "Python 3 (ipykernel)",
   "language": "python",
   "name": "python3"
  },
  "language_info": {
   "codemirror_mode": {
    "name": "ipython",
    "version": 3
   },
   "file_extension": ".py",
   "mimetype": "text/x-python",
   "name": "python",
   "nbconvert_exporter": "python",
   "pygments_lexer": "ipython3",
   "version": "3.11.5"
  }
 },
 "nbformat": 4,
 "nbformat_minor": 5
}
